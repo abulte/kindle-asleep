{
 "cells": [
  {
   "cell_type": "code",
   "execution_count": null,
   "id": "13b3d9be-f50b-42f8-9dc9-10d0df122c31",
   "metadata": {
    "tags": []
   },
   "outputs": [],
   "source": [
    "import pandas as pd\n",
    "import numpy as np\n",
    "import matplotlib.pyplot as plt\n",
    "import matplotlib.dates as mdates\n",
    "import matplotlib.backends.backend_pdf as bkd\n",
    "import matplotlib.ticker as ticker"
   ]
  },
  {
   "cell_type": "code",
   "execution_count": null,
   "id": "e68d0a1a-88d8-42c0-940e-2ec6c55610af",
   "metadata": {
    "tags": []
   },
   "outputs": [],
   "source": [
    "df = pd.read_csv(\"../output/2024-01-18.csv\", parse_dates=[\"day\", \"asleep_datetime_utc\"])\n",
    "df"
   ]
  },
  {
   "cell_type": "code",
   "execution_count": null,
   "id": "4ac6ef90-2f34-47c7-8025-70f879c7b257",
   "metadata": {
    "tags": []
   },
   "outputs": [],
   "source": [
    "df['asleep_datetime'] = df['asleep_datetime_utc'].dt.tz_convert('Europe/Paris')\n",
    "df"
   ]
  },
  {
   "cell_type": "code",
   "execution_count": null,
   "id": "8d4b6e3c-685d-4a76-b874-8acc0d141e8b",
   "metadata": {
    "tags": []
   },
   "outputs": [],
   "source": [
    "df['hour'] = df['asleep_datetime'].dt.hour\n",
    "df"
   ]
  },
  {
   "cell_type": "code",
   "execution_count": null,
   "id": "25ae47c6-9e93-4e6e-ba91-2e063cee9f39",
   "metadata": {
    "tags": []
   },
   "outputs": [],
   "source": [
    "ax = df[df.day > '2023-12-18'].plot(x='day', y='hour', kind='bar')\n",
    "plt.yticks(np.arange(0, df['hour'].max() + 1, 1))\n",
    "plt.show()"
   ]
  },
  {
   "cell_type": "code",
   "execution_count": null,
   "id": "a0647ad2-3b7b-46bb-893b-fb13d88bba65",
   "metadata": {
    "tags": []
   },
   "outputs": [],
   "source": [
    "df = df.assign(norm_hour = lambda x: x['hour'].apply(lambda y: y if y > 12 else y + 24))\n",
    "df"
   ]
  },
  {
   "cell_type": "code",
   "execution_count": null,
   "id": "769fc106-7c72-4d79-9873-70a160f45535",
   "metadata": {
    "tags": []
   },
   "outputs": [],
   "source": [
    "mean_norm_hour = df['norm_hour'].mean()\n",
    "ax = df[df.day > '2023-12-18'].plot(x='day', y='norm_hour', kind='bar', alpha=0.7, label='norm_hour')\n",
    "ax.axhline(mean_norm_hour, color='red', linestyle='dashed', label='mean_norm_hour')\n",
    "plt.yticks(np.arange(0, df['norm_hour'].max() + 1, 1))\n",
    "plt.legend()\n",
    "plt.show()"
   ]
  },
  {
   "cell_type": "code",
   "execution_count": null,
   "id": "0249f688-20fa-4ae2-938c-ed3b47a19bf1",
   "metadata": {
    "tags": []
   },
   "outputs": [],
   "source": [
    "# Calculate the global mean norm_hour\n",
    "global_mean_norm_hour = df['norm_hour'].mean()\n",
    "\n",
    "# Get unique years and months\n",
    "unique_years = df['day'].dt.year.unique()\n",
    "unique_months = df['day'].dt.month.unique()\n",
    "\n",
    "pdf_pages = bkd.PdfPages('2024-01-18.pdf')\n",
    "\n",
    "df['day_label'] = df['day'].dt.strftime('%Y-%m-%d')\n",
    "\n",
    "# Loop over unique years\n",
    "for year in unique_years:\n",
    "    # Loop over unique months\n",
    "    for month in unique_months:\n",
    "        # Filter DataFrame for current year and month\n",
    "        df_year_month = df[(df['day'].dt.year == year) & (df['day'].dt.month == month)]\n",
    "\n",
    "        if df_year_month.empty:\n",
    "            continue\n",
    "\n",
    "        # Calculate the mean norm_hour for the current month\n",
    "        mean_norm_hour_monthly = df_year_month['norm_hour'].mean()\n",
    "\n",
    "        # Create a new figure for each year and month\n",
    "        fig, ax = plt.subplots()\n",
    "\n",
    "        # Plot 'norm_hour' as a bar chart\n",
    "        df_year_month.plot(x='day_label', y='norm_hour', kind='bar', alpha=0.7, label='norm_hour', ax=ax)\n",
    "\n",
    "        # Add a horizontal line at the global mean norm_hour\n",
    "        ax.axhline(global_mean_norm_hour, color='green', linestyle='dashdot', label='Global Mean')\n",
    "\n",
    "        # Add a horizontal line at the mean norm_hour for the current month\n",
    "        ax.axhline(mean_norm_hour_monthly, color='red', linestyle='dashed', label='Monthly Mean')\n",
    "\n",
    "        plt.yticks(np.arange(0, df['norm_hour'].max() + 1, 1))\n",
    "        plt.legend()\n",
    "        plt.title(f'{pd.to_datetime(df_year_month[\"day\"].iloc[0])} - {pd.to_datetime(df_year_month[\"day\"].iloc[-1])}')\n",
    "\n",
    "        # Apply tight layout\n",
    "        plt.tight_layout()\n",
    "\n",
    "        pdf_pages.savefig(fig)\n",
    "        plt.clf()\n",
    "\n",
    "# Close the PDF file\n",
    "pdf_pages.close()"
   ]
  },
  {
   "cell_type": "code",
   "execution_count": null,
   "id": "b3ddf7f2-fade-4043-ac52-e382c354f512",
   "metadata": {},
   "outputs": [],
   "source": [
    "df_year_month.info()"
   ]
  },
  {
   "cell_type": "code",
   "execution_count": null,
   "id": "f6046847-d97c-408a-9161-c84e32a818eb",
   "metadata": {},
   "outputs": [],
   "source": []
  }
 ],
 "metadata": {
  "kernelspec": {
   "display_name": "Python 3 (ipykernel)",
   "language": "python",
   "name": "python3"
  },
  "language_info": {
   "codemirror_mode": {
    "name": "ipython",
    "version": 3
   },
   "file_extension": ".py",
   "mimetype": "text/x-python",
   "name": "python",
   "nbconvert_exporter": "python",
   "pygments_lexer": "ipython3",
   "version": "3.11.3"
  }
 },
 "nbformat": 4,
 "nbformat_minor": 5
}
